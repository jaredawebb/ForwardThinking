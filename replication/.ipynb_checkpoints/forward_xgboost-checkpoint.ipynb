{
 "cells": [
  {
   "cell_type": "code",
   "execution_count": 29,
   "metadata": {
    "collapsed": false
   },
   "outputs": [
    {
     "name": "stdout",
     "output_type": "stream",
     "text": [
      "Extracting MNIST_data/train-images-idx3-ubyte.gz\n",
      "Extracting MNIST_data/train-labels-idx1-ubyte.gz\n",
      "Extracting MNIST_data/t10k-images-idx3-ubyte.gz\n",
      "Extracting MNIST_data/t10k-labels-idx1-ubyte.gz\n"
     ]
    }
   ],
   "source": [
    "import numpy as np\n",
    "import xgboost as xgb\n",
    "import re\n",
    "\n",
    "\n",
    "from tensorflow.examples.tutorials.mnist import input_data\n",
    "mnist = input_data.read_data_sets('MNIST_data', one_hot=True)"
   ]
  },
  {
   "cell_type": "code",
   "execution_count": 14,
   "metadata": {
    "collapsed": false
   },
   "outputs": [],
   "source": [
    "# Train an xgboost model, get the booster, and dump the trees.\n",
    "# Write a function that eats a tree and spits out a function\n",
    "# that generates the output of the tree.\n",
    "\n",
    "Ytrain = np.argmax(mnist.train.labels, axis=1)\n",
    "Ytest = np.argmax(mnist.test.labels, axis=1)\n",
    "\n",
    "xgc = xgb.XGBClassifier(n_estimators=100)"
   ]
  },
  {
   "cell_type": "code",
   "execution_count": 16,
   "metadata": {
    "collapsed": false
   },
   "outputs": [],
   "source": [
    "model = xgc.fit(mnist.train.images[:1000,:], (Ytrain == 1)[:1000])"
   ]
  },
  {
   "cell_type": "code",
   "execution_count": 17,
   "metadata": {
    "collapsed": false
   },
   "outputs": [],
   "source": [
    "booster = model.booster()"
   ]
  },
  {
   "cell_type": "code",
   "execution_count": 19,
   "metadata": {
    "collapsed": false
   },
   "outputs": [],
   "source": [
    "trees = booster.get_dump()"
   ]
  },
  {
   "cell_type": "code",
   "execution_count": 28,
   "metadata": {
    "collapsed": false
   },
   "outputs": [
    {
     "data": {
      "text/plain": [
       "'0:[f437<0.00196078] yes=1,no=2,missing=1\\n\\t1:[f577<0.00980392] yes=3,no=4,missing=3\\n\\t\\t3:[f319<0.0137255] yes=5,no=6,missing=5\\n\\t\\t\\t5:leaf=0.118699\\n\\t\\t\\t6:leaf=-0.168627\\n\\t\\t4:[f436<0.798039] yes=7,no=8,missing=7\\n\\t\\t\\t7:leaf=-0.191257\\n\\t\\t\\t8:leaf=-0\\n\\t2:leaf=-0.195115\\n'"
      ]
     },
     "execution_count": 28,
     "metadata": {},
     "output_type": "execute_result"
    }
   ],
   "source": [
    "trees[0]"
   ]
  },
  {
   "cell_type": "code",
   "execution_count": 59,
   "metadata": {
    "collapsed": false
   },
   "outputs": [],
   "source": [
    "decisions = re.findall('[0-9*]+:+.*no=[0-9]', trees[0])\n"
   ]
  },
  {
   "cell_type": "code",
   "execution_count": 56,
   "metadata": {
    "collapsed": false
   },
   "outputs": [
    {
     "data": {
      "text/plain": [
       "['104123:']"
      ]
     },
     "execution_count": 56,
     "metadata": {},
     "output_type": "execute_result"
    }
   ],
   "source": [
    "re.findall('[0-9*]+:', '104123:qsdfaf')[]"
   ]
  },
  {
   "cell_type": "code",
   "execution_count": 31,
   "metadata": {
    "collapsed": false
   },
   "outputs": [
    {
     "data": {
      "text/plain": [
       "['f437<0.00196078', 'f577<0.00980392', 'f319<0.0137255', 'f436<0.798039']"
      ]
     },
     "execution_count": 31,
     "metadata": {},
     "output_type": "execute_result"
    }
   ],
   "source": [
    "re.findall('\\[(.*?)\\]', trees[0])"
   ]
  },
  {
   "cell_type": "code",
   "execution_count": 42,
   "metadata": {
    "collapsed": false
   },
   "outputs": [
    {
     "data": {
      "text/plain": [
       "['5:leaf=0.118699',\n",
       " '6:leaf=-0.168627',\n",
       " '7:leaf=-0.191257',\n",
       " '8:leaf=-0',\n",
       " '2:leaf=-0.195115']"
      ]
     },
     "execution_count": 42,
     "metadata": {},
     "output_type": "execute_result"
    }
   ],
   "source": [
    "leafs = re.findall('[0-9*]+:+leaf.*', trees[0])"
   ]
  },
  {
   "cell_type": "code",
   "execution_count": 126,
   "metadata": {
    "collapsed": false
   },
   "outputs": [],
   "source": [
    "def create_tree(tree_str):\n",
    "    \n",
    "    decisions = re.findall('[0-9*]+:+.*no=[0-9]', tree_str)\n",
    "    leafs = re.findall('[0-9*]+:+leaf.*', tree_str)\n",
    "    \n",
    "    tree = {}\n",
    "    for decision in decisions:\n",
    "        k = int(decision.rsplit(':')[0])\n",
    "        \n",
    "        ineq = re.findall('\\[(.*?)\\]', decision)[0].split('<')\n",
    "        p = int(ineq[0][1:])\n",
    "        v = float(ineq[1])\n",
    "        \n",
    "        yes = int(re.findall('yes=+[0-9]*', decision)[0].split('=')[1])\n",
    "        no = int(re.findall('no=+[0-9]*', decision)[0].split('=')[1])\n",
    "        \n",
    "        tree[k] = (p, v, yes, no)\n",
    "        \n",
    "    for leaf in leafs:\n",
    "        \n",
    "        k = int(leaf.rsplit(':')[0])\n",
    "        v = float(leaf.split('=')[1])\n",
    "        \n",
    "        tree[k] = v\n",
    "        \n",
    "    return tree\n",
    "\n",
    "def eval_tree(tree, images):\n",
    "    \n",
    "    i = 0\n",
    "    \n",
    "    curr = tree[i]\n",
    "    outputs = []\n",
    "    \n",
    "    for image in images:\n",
    "        while type(curr) == tuple:\n",
    "            if image[curr[0]] < curr[1]:\n",
    "                curr = tree[curr[2]]\n",
    "            else:\n",
    "                curr = tree[curr[3]]\n",
    "        outputs.append(curr)\n",
    "        \n",
    "    return outputs\n",
    "        \n",
    "    "
   ]
  },
  {
   "cell_type": "code",
   "execution_count": 81,
   "metadata": {
    "collapsed": false
   },
   "outputs": [
    {
     "data": {
      "text/plain": [
       "['f437', '0.00196078']"
      ]
     },
     "execution_count": 81,
     "metadata": {},
     "output_type": "execute_result"
    }
   ],
   "source": [
    "re.findall('\\[(.*?)\\]', decisions[0])[0].split('<')"
   ]
  },
  {
   "cell_type": "code",
   "execution_count": 82,
   "metadata": {
    "collapsed": false
   },
   "outputs": [
    {
     "data": {
      "text/plain": [
       "['yes', '3']"
      ]
     },
     "execution_count": 82,
     "metadata": {},
     "output_type": "execute_result"
    }
   ],
   "source": [
    "re.findall('yes=+[0-9]*', decisions[1])[0].split('=')"
   ]
  },
  {
   "cell_type": "code",
   "execution_count": 103,
   "metadata": {
    "collapsed": false
   },
   "outputs": [],
   "source": [
    "t = create_tree(trees[0])"
   ]
  },
  {
   "cell_type": "code",
   "execution_count": 101,
   "metadata": {
    "collapsed": false
   },
   "outputs": [
    {
     "name": "stdout",
     "output_type": "stream",
     "text": [
      "0:[f437<0.00196078] yes=1,no=2,missing=1\n",
      "\t1:[f577<0.00980392] yes=3,no=4,missing=3\n",
      "\t\t3:[f319<0.0137255] yes=5,no=6,missing=5\n",
      "\t\t\t5:leaf=0.118699\n",
      "\t\t\t6:leaf=-0.168627\n",
      "\t\t4:[f436<0.798039] yes=7,no=8,missing=7\n",
      "\t\t\t7:leaf=-0.191257\n",
      "\t\t\t8:leaf=-0\n",
      "\t2:leaf=-0.195115\n",
      "\n"
     ]
    }
   ],
   "source": [
    "print(trees[0])"
   ]
  },
  {
   "cell_type": "code",
   "execution_count": 115,
   "metadata": {
    "collapsed": false
   },
   "outputs": [
    {
     "data": {
      "text/plain": [
       "{0: (437, 0.00196078, 1, 2),\n",
       " 1: (577, 0.00980392, 3, 4),\n",
       " 2: -0.195115,\n",
       " 3: (319, 0.0137255, 5, 6),\n",
       " 4: (436, 0.798039, 7, 8),\n",
       " 5: 0.118699,\n",
       " 6: -0.168627,\n",
       " 7: -0.191257,\n",
       " 8: -0.0}"
      ]
     },
     "execution_count": 115,
     "metadata": {},
     "output_type": "execute_result"
    }
   ],
   "source": [
    "t"
   ]
  },
  {
   "cell_type": "code",
   "execution_count": 127,
   "metadata": {
    "collapsed": false
   },
   "outputs": [
    {
     "data": {
      "text/plain": [
       "-0.195115"
      ]
     },
     "execution_count": 127,
     "metadata": {},
     "output_type": "execute_result"
    }
   ],
   "source": [
    "eval_tree(t, mnist.train.images[501])"
   ]
  },
  {
   "cell_type": "code",
   "execution_count": 128,
   "metadata": {
    "collapsed": false
   },
   "outputs": [
    {
     "data": {
      "text/plain": [
       "0.99215692"
      ]
     },
     "execution_count": 128,
     "metadata": {},
     "output_type": "execute_result"
    }
   ],
   "source": [
    "mnist.train.images[501][437]"
   ]
  },
  {
   "cell_type": "code",
   "execution_count": null,
   "metadata": {
    "collapsed": true
   },
   "outputs": [],
   "source": []
  }
 ],
 "metadata": {
  "anaconda-cloud": {},
  "kernelspec": {
   "display_name": "Python [Root]",
   "language": "python",
   "name": "Python [Root]"
  },
  "language_info": {
   "codemirror_mode": {
    "name": "ipython",
    "version": 3
   },
   "file_extension": ".py",
   "mimetype": "text/x-python",
   "name": "python",
   "nbconvert_exporter": "python",
   "pygments_lexer": "ipython3",
   "version": "3.5.2"
  }
 },
 "nbformat": 4,
 "nbformat_minor": 0
}
