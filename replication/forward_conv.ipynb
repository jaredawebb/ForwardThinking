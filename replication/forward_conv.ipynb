{
 "cells": [
  {
   "cell_type": "code",
   "execution_count": 48,
   "metadata": {
    "collapsed": false
   },
   "outputs": [
    {
     "name": "stdout",
     "output_type": "stream",
     "text": [
      "Extracting MNIST_data/train-images-idx3-ubyte.gz\n",
      "Extracting MNIST_data/train-labels-idx1-ubyte.gz\n",
      "Extracting MNIST_data/t10k-images-idx3-ubyte.gz\n",
      "Extracting MNIST_data/t10k-labels-idx1-ubyte.gz\n"
     ]
    }
   ],
   "source": [
    "import tensorflow as tf\n",
    "import numpy as np\n",
    "\n",
    "import matplotlib.pyplot as plt\n",
    "import seaborn as sns\n",
    "%matplotlib inline\n",
    "\n",
    "from tensorflow.examples.tutorials.mnist import input_data\n",
    "mnist = input_data.read_data_sets('MNIST_data', one_hot=True)"
   ]
  },
  {
   "cell_type": "code",
   "execution_count": 49,
   "metadata": {
    "collapsed": false
   },
   "outputs": [],
   "source": [
    "# import keras\n",
    "from keras.preprocessing.image import ImageDataGenerator\n",
    "\n",
    "datagen = ImageDataGenerator(\n",
    "    rotation_range=7,  # randomly rotate images in the range (degrees, 0 to 180)\n",
    "    width_shift_range=0.05,  # randomly shift images horizontally (fraction of total width)\n",
    "    height_shift_range=0.05,  # randomly shift images vertically (fraction of total height)\n",
    "    zoom_range=.1)\n",
    "\n",
    "x_train = mnist.train.images.reshape(mnist.train.images.shape[0], 28, 28, 1)\n",
    "x_test = mnist.test.images.reshape(mnist.test.images.shape[0], 28, 28, 1)\n",
    "\n",
    "datagen.fit(x_train)\n",
    "images = datagen.flow(x_train, mnist.train.labels, batch_size=50)"
   ]
  },
  {
   "cell_type": "code",
   "execution_count": null,
   "metadata": {
    "collapsed": false
   },
   "outputs": [],
   "source": []
  },
  {
   "cell_type": "code",
   "execution_count": null,
   "metadata": {
    "collapsed": false
   },
   "outputs": [],
   "source": []
  },
  {
   "cell_type": "code",
   "execution_count": 50,
   "metadata": {
    "collapsed": true
   },
   "outputs": [],
   "source": [
    "def weight_variable(shape):\n",
    "  initial = tf.truncated_normal(shape, stddev=0.1)\n",
    "  return tf.Variable(initial)\n",
    "\n",
    "def bias_variable(shape):\n",
    "  initial = tf.constant(0.1, shape=shape)\n",
    "  return tf.Variable(initial)\n",
    "\n",
    "def conv2d(x, W):\n",
    "  return tf.nn.conv2d(x, W, strides=[1, 1, 1, 1], padding='SAME')\n",
    "\n",
    "def max_pool_2x2(x):\n",
    "  return tf.nn.max_pool(x, ksize=[1, 2, 2, 1],\n",
    "                        strides=[1, 2, 2, 1], padding='SAME')\n"
   ]
  },
  {
   "cell_type": "code",
   "execution_count": 54,
   "metadata": {
    "collapsed": false
   },
   "outputs": [
    {
     "name": "stdout",
     "output_type": "stream",
     "text": [
      "step 0, training accuracy 0.06\n",
      "step 10, training accuracy 0.18\n",
      "step 20, training accuracy 0.24\n",
      "step 30, training accuracy 0.26\n",
      "step 40, training accuracy 0.26\n",
      "step 50, training accuracy 0.26\n",
      "step 60, training accuracy 0.24\n",
      "step 70, training accuracy 0.22\n",
      "step 80, training accuracy 0.2\n",
      "step 90, training accuracy 0.14\n"
     ]
    }
   ],
   "source": [
    "# Train the first layer\n",
    "weights = []\n",
    "\n",
    "x = tf.placeholder(tf.float32, shape=[None, 784])\n",
    "y_ = tf.placeholder(tf.float32, shape=[None, 10])\n",
    "\n",
    "x_image = tf.reshape(x, [-1,28,28,1])\n",
    "\n",
    "W_conv1 = weight_variable([3, 3, 1, 256])\n",
    "b_conv1 = bias_variable([256])\n",
    "\n",
    "h_conv1 = tf.nn.relu(conv2d(x_image, W_conv1) + b_conv1)\n",
    "h_pool1 = max_pool_2x2(h_conv1)\n",
    "\n",
    "flat_dim = int(h_pool1.get_shape()[1]*h_pool1.get_shape()[2]*h_pool1.get_shape()[3])\n",
    "\n",
    "W_fc1 = weight_variable([flat_dim, 150])\n",
    "b_fc1 = bias_variable([150])\n",
    "\n",
    "h_pool1_flat = tf.reshape(h_pool1, [-1, flat_dim])\n",
    "h_fc1 = tf.nn.relu(tf.matmul(h_pool1_flat, W_fc1) + b_fc1)\n",
    "\n",
    "h_fc1_drop = tf.nn.dropout(h_fc1, 0.3)\n",
    "\n",
    "W_fc2 = weight_variable([150, 10])\n",
    "b_fc2 = bias_variable([10])\n",
    "\n",
    "y_conv = tf.matmul(h_fc1_drop, W_fc2) + b_fc2\n",
    "\n",
    "y_conv_drop = tf.nn.dropout(y_conv, 0.5)\n",
    "\n",
    "cross_entropy = tf.reduce_mean(tf.nn.softmax_cross_entropy_with_logits(y_conv, y_))\n",
    "train_step = tf.train.AdamOptimizer(1e-4).minimize(cross_entropy)\n",
    "correct_prediction = tf.equal(tf.argmax(y_conv,1), tf.argmax(y_,1))\n",
    "accuracy = tf.reduce_mean(tf.cast(correct_prediction, tf.float32))\n",
    "\n",
    "with tf.Session() as sess:\n",
    "    sess.run(tf.global_variables_initializer())\n",
    "    \n",
    "    for i in range(100):\n",
    "        # batch = mnist.train.next_batch(50)\n",
    "        batch = images.next()\n",
    "        if i%10 == 0:\n",
    "            train_accuracy = accuracy.eval(feed_dict={x:batch[0].reshape((50,784)), \n",
    "                                                      y_: batch[1]})\n",
    "            print(\"step %d, training accuracy %g\"%(i, train_accuracy))\n",
    "        train_step.run(feed_dict={x: batch[0].reshape((50,784)), y_: batch[1]})\n",
    "\n",
    "    #print(\"test accuracy %g\"%accuracy.eval(feed_dict={x: mnist.test.images,\n",
    "    #                                                  y_: mnist.test.labels}))\n",
    "    \n",
    "    weights.append((W_conv1.eval(), b_conv1.eval()))"
   ]
  },
  {
   "cell_type": "code",
   "execution_count": 25,
   "metadata": {
    "collapsed": false
   },
   "outputs": [
    {
     "data": {
      "text/plain": [
       "1"
      ]
     },
     "execution_count": 25,
     "metadata": {},
     "output_type": "execute_result"
    }
   ],
   "source": [
    "len(weights)"
   ]
  },
  {
   "cell_type": "code",
   "execution_count": 28,
   "metadata": {
    "collapsed": false
   },
   "outputs": [
    {
     "name": "stdout",
     "output_type": "stream",
     "text": [
      "step 0, training accuracy 0.12\n",
      "step 10, training accuracy 0.14\n",
      "step 20, training accuracy 0.12\n",
      "step 30, training accuracy 0.2\n",
      "step 40, training accuracy 0.18\n",
      "step 50, training accuracy 0.32\n",
      "step 60, training accuracy 0.28\n",
      "step 70, training accuracy 0.18\n",
      "step 80, training accuracy 0.3\n",
      "step 90, training accuracy 0.26\n"
     ]
    }
   ],
   "source": [
    "x = tf.placeholder(tf.float32, shape=[None, 784])\n",
    "y_ = tf.placeholder(tf.float32, shape=[None, 10])\n",
    "\n",
    "x_image = tf.reshape(x, [-1,28,28,1])\n",
    "\n",
    "W_conv1 = tf.constant(weights[0][0])#weight_variable([3, 3, 1, 256])\n",
    "b_conv1 = tf.constant(weights[0][1])\n",
    "\n",
    "h_conv1 = tf.nn.relu(conv2d(x_image, W_conv1) + b_conv1)\n",
    "h_pool1 = max_pool_2x2(h_conv1)\n",
    "\n",
    "#######\n",
    "\n",
    "W_conv2 = weight_variable([3, 3, 256, 256])\n",
    "b_conv2 = bias_variable([256])\n",
    "\n",
    "h_conv2 = tf.nn.relu(conv2d(h_pool1, W_conv2) + b_conv2)\n",
    "h_pool2 = max_pool_2x2(h_conv2)\n",
    "\n",
    "#######\n",
    "\n",
    "flat_dim = int(h_pool2.get_shape()[1]*h_pool2.get_shape()[2]*h_pool2.get_shape()[3])\n",
    "\n",
    "W_fc1 = weight_variable([flat_dim, 150])\n",
    "b_fc1 = bias_variable([150])\n",
    "\n",
    "h_pool2_flat = tf.reshape(h_pool2, [-1, flat_dim])\n",
    "h_fc1 = tf.nn.relu(tf.matmul(h_pool2_flat, W_fc1) + b_fc1)\n",
    "\n",
    "h_fc1_drop = tf.nn.dropout(h_fc1, 0.3)\n",
    "\n",
    "W_fc2 = weight_variable([150, 10])\n",
    "b_fc2 = bias_variable([10])\n",
    "\n",
    "y_conv = tf.matmul(h_fc1_drop, W_fc2) + b_fc2\n",
    "\n",
    "y_conv_drop = tf.nn.dropout(y_conv, 0.5)\n",
    "\n",
    "cross_entropy = tf.reduce_mean(tf.nn.softmax_cross_entropy_with_logits(y_conv, y_))\n",
    "train_step = tf.train.AdamOptimizer(1e-4).minimize(cross_entropy)\n",
    "correct_prediction = tf.equal(tf.argmax(y_conv,1), tf.argmax(y_,1))\n",
    "accuracy = tf.reduce_mean(tf.cast(correct_prediction, tf.float32))\n",
    "\n",
    "with tf.Session() as sess:\n",
    "    sess.run(tf.global_variables_initializer())\n",
    "    \n",
    "    for i in range(100):\n",
    "        batch = mnist.train.next_batch(50)\n",
    "        if i%10 == 0:\n",
    "            train_accuracy = accuracy.eval(feed_dict={x:batch[0], \n",
    "                                                      y_: batch[1]})\n",
    "            print(\"step %d, training accuracy %g\"%(i, train_accuracy))\n",
    "        train_step.run(feed_dict={x: batch[0], y_: batch[1]})\n",
    "\n",
    "    #print(\"test accuracy %g\"%accuracy.eval(feed_dict={x: mnist.test.images,\n",
    "    #                                                  y_: mnist.test.labels}))\n",
    "    \n",
    "    weights.append((W_conv2.eval(), b_conv2.eval()))"
   ]
  },
  {
   "cell_type": "code",
   "execution_count": 30,
   "metadata": {
    "collapsed": false
   },
   "outputs": [
    {
     "name": "stdout",
     "output_type": "stream",
     "text": [
      "step 0, training accuracy 0.06\n",
      "step 10, training accuracy 0.1\n",
      "step 20, training accuracy 0.12\n",
      "step 30, training accuracy 0.18\n",
      "step 40, training accuracy 0.26\n",
      "step 50, training accuracy 0.14\n",
      "step 60, training accuracy 0.26\n",
      "step 70, training accuracy 0.26\n",
      "step 80, training accuracy 0.24\n",
      "step 90, training accuracy 0.22\n"
     ]
    }
   ],
   "source": [
    "x = tf.placeholder(tf.float32, shape=[None, 784])\n",
    "y_ = tf.placeholder(tf.float32, shape=[None, 10])\n",
    "\n",
    "x_image = tf.reshape(x, [-1,28,28,1])\n",
    "\n",
    "W_conv1 = tf.constant(weights[0][0])#weight_variable([3, 3, 1, 256])\n",
    "b_conv1 = tf.constant(weights[0][1])\n",
    "\n",
    "h_conv1 = tf.nn.relu(conv2d(x_image, W_conv1) + b_conv1)\n",
    "h_pool1 = max_pool_2x2(h_conv1)\n",
    "\n",
    "#######\n",
    "\n",
    "W_conv2 = tf.constant(weights[1][0])\n",
    "b_conv2 = tf.constant(weights[1][1])\n",
    "\n",
    "h_conv2 = tf.nn.relu(conv2d(h_pool1, W_conv2) + b_conv2)\n",
    "h_pool2 = max_pool_2x2(h_conv2)\n",
    "\n",
    "#######\n",
    "\n",
    "W_conv3 = weight_variable([3, 3, 256, 128])\n",
    "b_conv3 = bias_variable([128])\n",
    "\n",
    "h_conv3 = tf.nn.relu(conv2d(h_pool2, W_conv3) + b_conv3)\n",
    "h_pool3 = max_pool_2x2(h_conv3)\n",
    "\n",
    "#######\n",
    "\n",
    "flat_dim = int(h_pool3.get_shape()[1]*h_pool3.get_shape()[2]*h_pool3.get_shape()[3])\n",
    "\n",
    "W_fc1 = weight_variable([flat_dim, 150])\n",
    "b_fc1 = bias_variable([150])\n",
    "\n",
    "h_pool3_flat = tf.reshape(h_pool3, [-1, flat_dim])\n",
    "h_fc1 = tf.nn.relu(tf.matmul(h_pool3_flat, W_fc1) + b_fc1)\n",
    "\n",
    "h_fc1_drop = tf.nn.dropout(h_fc1, 0.3)\n",
    "\n",
    "W_fc2 = weight_variable([150, 10])\n",
    "b_fc2 = bias_variable([10])\n",
    "\n",
    "y_conv = tf.matmul(h_fc1_drop, W_fc2) + b_fc2\n",
    "\n",
    "y_conv_drop = tf.nn.dropout(y_conv, 0.5)\n",
    "\n",
    "cross_entropy = tf.reduce_mean(tf.nn.softmax_cross_entropy_with_logits(y_conv, y_))\n",
    "train_step = tf.train.AdamOptimizer(1e-4).minimize(cross_entropy)\n",
    "correct_prediction = tf.equal(tf.argmax(y_conv,1), tf.argmax(y_,1))\n",
    "accuracy = tf.reduce_mean(tf.cast(correct_prediction, tf.float32))\n",
    "\n",
    "with tf.Session() as sess:\n",
    "    sess.run(tf.global_variables_initializer())\n",
    "    \n",
    "    for i in range(100):\n",
    "        batch = mnist.train.next_batch(50)\n",
    "        if i%10 == 0:\n",
    "            train_accuracy = accuracy.eval(feed_dict={x:batch[0], \n",
    "                                                      y_: batch[1]})\n",
    "            print(\"step %d, training accuracy %g\"%(i, train_accuracy))\n",
    "        train_step.run(feed_dict={x: batch[0], y_: batch[1]})\n",
    "\n",
    "    #print(\"test accuracy %g\"%accuracy.eval(feed_dict={x: mnist.test.images,\n",
    "    #                                                  y_: mnist.test.labels}))\n",
    "    \n",
    "    weights.append((W_conv3.eval(), b_conv3.eval()))"
   ]
  },
  {
   "cell_type": "code",
   "execution_count": null,
   "metadata": {
    "collapsed": true
   },
   "outputs": [],
   "source": [
    "x = tf.placeholder(tf.float32, shape=[None, 784])\n",
    "y_ = tf.placeholder(tf.float32, shape=[None, 10])\n",
    "\n",
    "x_image = tf.reshape(x, [-1,28,28,1])\n",
    "\n",
    "W_conv1 = tf.constant(weights[0][0])#weight_variable([3, 3, 1, 256])\n",
    "b_conv1 = tf.constant(weights[0][1])\n",
    "\n",
    "h_conv1 = tf.nn.relu(conv2d(x_image, W_conv1) + b_conv1)\n",
    "h_pool1 = max_pool_2x2(h_conv1)\n",
    "\n",
    "#######\n",
    "\n",
    "W_conv2 = tf.constant(weights[1][0])\n",
    "b_conv2 = tf.constant(weights[1][1])\n",
    "\n",
    "h_conv2 = tf.nn.relu(conv2d(h_pool1, W_conv2) + b_conv2)\n",
    "h_pool2 = max_pool_2x2(h_conv2)\n",
    "\n",
    "#######\n",
    "\n",
    "W_conv2 = tf.constant(weights[2][0])\n",
    "b_conv2 = tf.constant(weights[2][1])\n",
    "\n",
    "h_conv3 = tf.nn.relu(conv2d(h_pool2, W_conv3) + b_conv3)\n",
    "h_pool3 = max_pool_2x2(h_conv3)\n",
    "\n",
    "#######\n",
    "\n",
    "flat_dim = int(h_pool3.get_shape()[1]*h_pool3.get_shape()[2]*h_pool3.get_shape()[3])\n",
    "\n",
    "W_fc1 = weight_variable([flat_dim, 150])\n",
    "b_fc1 = bias_variable([150])\n",
    "\n",
    "h_pool3_flat = tf.reshape(h_pool3, [-1, flat_dim])\n",
    "h_fc1 = tf.nn.relu(tf.matmul(h_pool3_flat, W_fc1) + b_fc1)\n",
    "\n",
    "h_fc1_drop = tf.nn.dropout(h_fc1, 0.3)\n",
    "\n",
    "W_fc2 = weight_variable([150, 10])\n",
    "b_fc2 = bias_variable([10])\n",
    "\n",
    "y_conv = tf.matmul(h_fc1_drop, W_fc2) + b_fc2\n",
    "\n",
    "y_conv_drop = tf.nn.dropout(y_conv, 0.5)\n",
    "\n",
    "cross_entropy = tf.reduce_mean(tf.nn.softmax_cross_entropy_with_logits(y_conv, y_))\n",
    "train_step = tf.train.AdamOptimizer(1e-4).minimize(cross_entropy)\n",
    "correct_prediction = tf.equal(tf.argmax(y_conv,1), tf.argmax(y_,1))\n",
    "accuracy = tf.reduce_mean(tf.cast(correct_prediction, tf.float32))\n",
    "\n",
    "with tf.Session() as sess:\n",
    "    sess.run(tf.global_variables_initializer())\n",
    "    \n",
    "    for i in range(100):\n",
    "        batch = mnist.train.next_batch(50)\n",
    "        if i%10 == 0:\n",
    "            train_accuracy = accuracy.eval(feed_dict={x:batch[0], \n",
    "                                                      y_: batch[1]})\n",
    "            print(\"step %d, training accuracy %g\"%(i, train_accuracy))\n",
    "        train_step.run(feed_dict={x: batch[0], y_: batch[1]})\n",
    "\n",
    "    #print(\"test accuracy %g\"%accuracy.eval(feed_dict={x: mnist.test.images,\n",
    "    #                                                  y_: mnist.test.labels}))\n",
    "    \n",
    "    weights.append((W_fc1.eval(), b_.eval()))"
   ]
  },
  {
   "cell_type": "code",
   "execution_count": 31,
   "metadata": {
    "collapsed": true
   },
   "outputs": [],
   "source": [
    "l = [1,2,3]\n",
    "np.save('list', l)"
   ]
  },
  {
   "cell_type": "code",
   "execution_count": null,
   "metadata": {
    "collapsed": true
   },
   "outputs": [],
   "source": []
  }
 ],
 "metadata": {
  "anaconda-cloud": {},
  "kernelspec": {
   "display_name": "Python [Root]",
   "language": "python",
   "name": "Python [Root]"
  },
  "language_info": {
   "codemirror_mode": {
    "name": "ipython",
    "version": 3
   },
   "file_extension": ".py",
   "mimetype": "text/x-python",
   "name": "python",
   "nbconvert_exporter": "python",
   "pygments_lexer": "ipython3",
   "version": "3.5.2"
  }
 },
 "nbformat": 4,
 "nbformat_minor": 0
}
