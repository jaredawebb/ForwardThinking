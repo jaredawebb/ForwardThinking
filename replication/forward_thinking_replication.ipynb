{
 "cells": [
  {
   "cell_type": "code",
   "execution_count": null,
   "metadata": {
    "collapsed": true
   },
   "outputs": [],
   "source": [
    "%load_ext autoreload\n",
    "%autoreload 1"
   ]
  },
  {
   "cell_type": "code",
   "execution_count": 123,
   "metadata": {
    "collapsed": false
   },
   "outputs": [
    {
     "name": "stdout",
     "output_type": "stream",
     "text": [
      "Extracting MNIST_data/train-images-idx3-ubyte.gz\n",
      "Extracting MNIST_data/train-labels-idx1-ubyte.gz\n",
      "Extracting MNIST_data/t10k-images-idx3-ubyte.gz\n",
      "Extracting MNIST_data/t10k-labels-idx1-ubyte.gz\n"
     ]
    }
   ],
   "source": [
    "import tensorflow as tf\n",
    "import numpy as np\n",
    "\n",
    "import matplotlib.pyplot as plt\n",
    "import seaborn as sns\n",
    "%matplotlib inline\n",
    "\n",
    "%aimport forward_thinking\n",
    "%aimport build_tf_nn\n",
    "\n",
    "from tensorflow.examples.tutorials.mnist import input_data\n",
    "mnist = input_data.read_data_sets('MNIST_data', one_hot=True)"
   ]
  },
  {
   "cell_type": "code",
   "execution_count": 124,
   "metadata": {
    "collapsed": false
   },
   "outputs": [],
   "source": [
    "ft = forward_thinking.neural_net(150, 28*28)\n",
    "epoch_iter = int((len(mnist.train.images)/50)*10)"
   ]
  },
  {
   "cell_type": "code",
   "execution_count": 125,
   "metadata": {
    "collapsed": false
   },
   "outputs": [
    {
     "name": "stdout",
     "output_type": "stream",
     "text": [
      "step 0, training accuracy 0.04\n",
      "step 1000, training accuracy 0.88\n",
      "Epoch Complete\n",
      "step 2000, training accuracy 0.92\n",
      "Epoch Complete\n",
      "step 3000, training accuracy 0.98\n",
      "Epoch Complete\n",
      "step 4000, training accuracy 0.92\n",
      "Epoch Complete\n",
      "step 5000, training accuracy 0.94\n",
      "Epoch Complete\n",
      "step 6000, training accuracy 0.88\n",
      "Epoch Complete\n",
      "step 7000, training accuracy 1\n",
      "Epoch Complete\n",
      "step 8000, training accuracy 0.94\n",
      "Epoch Complete\n",
      "step 9000, training accuracy 0.98\n",
      "Epoch Complete\n",
      "step 10000, training accuracy 0.94\n",
      "First Layer Accuracy 0.958400\n"
     ]
    }
   ],
   "source": [
    "with tf.Session() as sess:\n",
    "    #mnist = input_data.read_data_sets('MNIST_data', one_hot=True)\n",
    "    h1, h1_test, acc, weights = ft.train_first_layer(sess, mnist, iterations=epoch_iter)"
   ]
  },
  {
   "cell_type": "code",
   "execution_count": 126,
   "metadata": {
    "collapsed": false,
    "scrolled": false
   },
   "outputs": [
    {
     "name": "stdout",
     "output_type": "stream",
     "text": [
      "150\n",
      "step 0, training accuracy 0.2\n",
      "step 1000, training accuracy 0.86\n",
      "Epoch Complete\n",
      "step 2000, training accuracy 0.88\n",
      "Epoch Complete\n",
      "step 3000, training accuracy 0.88\n",
      "Epoch Complete\n",
      "step 4000, training accuracy 0.96\n",
      "Epoch Complete\n",
      "step 5000, training accuracy 0.96\n",
      "Epoch Complete\n",
      "step 6000, training accuracy 0.98\n",
      "Epoch Complete\n",
      "step 7000, training accuracy 1\n",
      "Epoch Complete\n",
      "step 8000, training accuracy 0.98\n",
      "Epoch Complete\n",
      "step 9000, training accuracy 0.9\n",
      "Epoch Complete\n",
      "step 10000, training accuracy 0.98\n",
      "Next Layer Accuracy 0.954900\n",
      "100\n",
      "step 0, training accuracy 0.1\n",
      "step 1000, training accuracy 0.92\n",
      "Epoch Complete\n",
      "step 2000, training accuracy 0.88\n",
      "Epoch Complete\n",
      "step 3000, training accuracy 0.96\n",
      "Epoch Complete\n",
      "step 4000, training accuracy 0.96\n",
      "Epoch Complete\n",
      "step 5000, training accuracy 0.94\n",
      "Epoch Complete\n",
      "step 6000, training accuracy 0.96\n",
      "Epoch Complete\n",
      "step 7000, training accuracy 0.92\n",
      "Epoch Complete\n",
      "step 8000, training accuracy 0.96\n",
      "Epoch Complete\n",
      "step 9000, training accuracy 0.96\n",
      "Epoch Complete\n",
      "step 10000, training accuracy 0.98\n",
      "Next Layer Accuracy 0.918200\n",
      "784\n",
      "step 0, training accuracy 0.06\n",
      "step 1000, training accuracy 0.92\n",
      "Epoch Complete\n",
      "step 2000, training accuracy 0.98\n",
      "Epoch Complete\n",
      "step 3000, training accuracy 0.92\n",
      "Epoch Complete\n",
      "step 4000, training accuracy 0.92\n",
      "Epoch Complete\n",
      "step 5000, training accuracy 0.98\n",
      "Epoch Complete\n",
      "step 6000, training accuracy 0.94\n",
      "Epoch Complete\n",
      "step 7000, training accuracy 0.92\n",
      "Epoch Complete\n",
      "step 8000, training accuracy 0.96\n",
      "Epoch Complete\n",
      "step 9000, training accuracy 1\n",
      "Epoch Complete\n",
      "step 10000, training accuracy 0.98\n",
      "Final Accuracy 0.957600\n"
     ]
    }
   ],
   "source": [
    "with tf.Session() as sess:\n",
    "    h, h_test, acc, weights = ft.train_next_layer(sess, mnist, h1, h1_test, hidden_nodes=100, iterations=epoch_iter)\n",
    "    h, h_test, acc, weights = ft.train_next_layer(sess, mnist, h, h_test, hidden_nodes=50, iterations=epoch_iter)\n",
    "    ft.train_output_layer(sess, mnist, h, h_test, weights, iterations=epoch_iter)"
   ]
  },
  {
   "cell_type": "code",
   "execution_count": 112,
   "metadata": {
    "collapsed": false
   },
   "outputs": [
    {
     "data": {
      "text/plain": [
       "[<matplotlib.lines.Line2D at 0x132c5c2b0>]"
      ]
     },
     "execution_count": 112,
     "metadata": {},
     "output_type": "execute_result"
    },
    {
     "data": {
      "image/png": "[encoded data removed]",
      "text/plain": [
       "<matplotlib.figure.Figure at 0x1319047f0>"
      ]
     },
     "metadata": {},
     "output_type": "display_data"
    }
   ],
   "source": [
    "plt.plot(ft.epoch_acc)"
   ]
  },
  {
   "cell_type": "code",
   "execution_count": 121,
   "metadata": {
    "collapsed": false
   },
   "outputs": [
    {
     "name": "stdout",
     "output_type": "stream",
     "text": [
      "Training Baseline Network\n",
      "\tSetting up training op\n",
      "\tInitializing Variables\n",
      "\tstep 0, training accuracy 0.1\n",
      "\tstep 1000, training accuracy 0.9\n",
      "Epoch Complete\n",
      "\tstep 2000, training accuracy 0.9\n",
      "Epoch Complete\n",
      "\tstep 3000, training accuracy 0.96\n",
      "Epoch Complete\n",
      "\tstep 4000, training accuracy 0.9\n",
      "Epoch Complete\n",
      "\tstep 5000, training accuracy 0.94\n",
      "Epoch Complete\n",
      "\tstep 6000, training accuracy 1\n",
      "Epoch Complete\n",
      "\tstep 7000, training accuracy 0.96\n",
      "Epoch Complete\n",
      "\tstep 8000, training accuracy 1\n",
      "Epoch Complete\n",
      "\tstep 9000, training accuracy 0.94\n",
      "Epoch Complete\n",
      "\tstep 10000, training accuracy 1\n",
      "Epoch Complete\n",
      "\tstep 11000, training accuracy 0.98\n",
      "\tstep 12000, training accuracy 0.96\n",
      "Epoch Complete\n",
      "\tstep 13000, training accuracy 1\n",
      "Epoch Complete\n",
      "\tstep 14000, training accuracy 0.98\n",
      "Epoch Complete\n",
      "\tstep 15000, training accuracy 0.96\n",
      "Epoch Complete\n",
      "\tstep 16000, training accuracy 0.96\n",
      "Epoch Complete\n",
      "\tstep 17000, training accuracy 1\n",
      "Epoch Complete\n",
      "\tstep 18000, training accuracy 0.98\n",
      "Epoch Complete\n",
      "\tstep 19000, training accuracy 0.98\n",
      "Epoch Complete\n",
      "\tstep 20000, training accuracy 0.98\n",
      "Epoch Complete\n",
      "\tstep 21000, training accuracy 1\n",
      "Epoch Complete\n",
      "\tstep 22000, training accuracy 1\n",
      "\tstep 23000, training accuracy 1\n",
      "Epoch Complete\n",
      "\tstep 24000, training accuracy 0.98\n",
      "Epoch Complete\n",
      "\tstep 25000, training accuracy 1\n",
      "Epoch Complete\n",
      "\tstep 26000, training accuracy 0.96\n",
      "Epoch Complete\n",
      "\tstep 27000, training accuracy 1\n",
      "Epoch Complete\n",
      "\tstep 28000, training accuracy 1\n",
      "Epoch Complete\n",
      "\tstep 29000, training accuracy 1\n",
      "Epoch Complete\n",
      "\tstep 30000, training accuracy 0.98\n",
      "Epoch Complete\n",
      "\tstep 31000, training accuracy 0.98\n",
      "Epoch Complete\n",
      "\tstep 32000, training accuracy 1\n",
      "Epoch Complete\n",
      "\tstep 33000, training accuracy 1\n",
      "\tstep 34000, training accuracy 1\n",
      "Epoch Complete\n",
      "\tstep 35000, training accuracy 1\n",
      "Epoch Complete\n",
      "\tstep 36000, training accuracy 1\n",
      "Epoch Complete\n",
      "\tstep 37000, training accuracy 0.98\n",
      "Epoch Complete\n",
      "\tstep 38000, training accuracy 1\n",
      "Epoch Complete\n",
      "\tstep 39000, training accuracy 1\n",
      "Epoch Complete\n",
      "\tstep 40000, training accuracy 1\n",
      "Epoch Complete\n",
      "\tstep 41000, training accuracy 1\n",
      "Epoch Complete\n",
      "\tstep 42000, training accuracy 1\n",
      "Epoch Complete\n",
      "\tstep 43000, training accuracy 1\n",
      "\ttest accuracy 0.9742\n"
     ]
    }
   ],
   "source": [
    "nn = build_tf_nn.neural_net(hidden_nodes=[100,100,100])#hidden_nodes=[64,64,64,64])\n",
    "\n",
    "with tf.Session() as sess:\n",
    "    print(\"Training Baseline Network\")\n",
    "    H = nn.train_network(sess, mnist, iterations=epoch_iter*4)"
   ]
  },
  {
   "cell_type": "code",
   "execution_count": 127,
   "metadata": {
    "collapsed": false
   },
   "outputs": [
    {
     "data": {
      "text/plain": [
       "[<matplotlib.lines.Line2D at 0x1305806a0>]"
      ]
     },
     "execution_count": 127,
     "metadata": {},
     "output_type": "execute_result"
    },
    {
     "data": {
      "image/png": "[encoded data removed]",
      "text/plain": [
       "<matplotlib.figure.Figure at 0x130e330f0>"
      ]
     },
     "metadata": {},
     "output_type": "display_data"
    }
   ],
   "source": [
    "plt.figure()\n",
    "plt.plot(ft.epoch_acc)\n",
    "plt.plot(nn.epoch_acc)"
   ]
  },
  {
   "cell_type": "code",
   "execution_count": null,
   "metadata": {
    "collapsed": false
   },
   "outputs": [],
   "source": []
  },
  {
   "cell_type": "code",
   "execution_count": 47,
   "metadata": {
    "collapsed": false
   },
   "outputs": [
    {
     "data": {
      "text/plain": [
       "[(array([[ 0.09875048,  0.04638739,  0.11082023, ..., -0.17302729,\n",
       "          -0.012513  , -0.12731248],\n",
       "         [ 0.01480521,  0.01756078,  0.03904639, ...,  0.04362536,\n",
       "          -0.12727019,  0.18328808],\n",
       "         [ 0.19036886, -0.08423377,  0.01533947, ..., -0.09251717,\n",
       "           0.13443772, -0.14997309],\n",
       "         ..., \n",
       "         [-0.00614307, -0.07430577, -0.15433097, ...,  0.01455531,\n",
       "           0.05305283,  0.06380794],\n",
       "         [ 0.06880172,  0.02475941, -0.05463408, ...,  0.15040275,\n",
       "           0.18399782, -0.1092056 ],\n",
       "         [ 0.05218841, -0.05362878, -0.03417682, ..., -0.06145218,\n",
       "           0.07997092,  0.00523493]], dtype=float32),\n",
       "  array([ 0.09702408,  0.15141852,  0.13041358,  0.15672979,  0.12347355,\n",
       "          0.11565871,  0.15868324,  0.10660598,  0.09859101,  0.07515085,\n",
       "          0.18036462,  0.15991062,  0.18238883,  0.10623326,  0.15262067,\n",
       "          0.10366514,  0.1032773 ,  0.16788724,  0.15108123,  0.15180656,\n",
       "          0.15985017,  0.13749632,  0.13888045,  0.13762337,  0.12586346,\n",
       "          0.12325893,  0.08821727,  0.08920121,  0.17086501,  0.13984168,\n",
       "          0.08911405,  0.12549917,  0.12038441,  0.03015224,  0.14160003,\n",
       "          0.1203334 ,  0.14414632,  0.07054899,  0.0967571 ,  0.17247289,\n",
       "          0.12720785,  0.14715606,  0.11498898,  0.12538913,  0.09865384,\n",
       "          0.12319963,  0.10146292,  0.11562692,  0.12520623,  0.13725114,\n",
       "          0.12300873,  0.07599903,  0.08158208,  0.08252425,  0.11241515,\n",
       "          0.11997553,  0.12693472,  0.13261336,  0.10778505,  0.13128304,\n",
       "          0.11764494,  0.10179168,  0.1207918 ,  0.05074885,  0.10975291,\n",
       "          0.11385393,  0.1706624 ,  0.12079702,  0.09970415,  0.08583326,\n",
       "          0.13573673,  0.08689713,  0.12323198,  0.12420547,  0.14235538,\n",
       "          0.08958109,  0.16902854,  0.07207741,  0.18093917,  0.04835622,\n",
       "          0.11190116,  0.13356513,  0.14615066,  0.09310792,  0.12385661,\n",
       "          0.16496004,  0.17195246,  0.12181035,  0.08569708,  0.10057604,\n",
       "          0.12794666,  0.10693749,  0.12644631,  0.1560397 ,  0.14445333,\n",
       "          0.12755498,  0.07980682,  0.13505752,  0.12688364,  0.10760412,\n",
       "          0.10169929,  0.11303388,  0.1177617 ,  0.14583389,  0.09291983,\n",
       "          0.13333003,  0.14935078,  0.08617269,  0.07887062,  0.11152039,\n",
       "          0.11613887,  0.17152368,  0.06044681,  0.17193626,  0.12631012,\n",
       "          0.0887597 ,  0.07384822,  0.09933474,  0.11050732,  0.0952054 ,\n",
       "          0.16032036,  0.14550658,  0.10804038,  0.09532454,  0.13124382,\n",
       "          0.09083737,  0.06963073,  0.16347502,  0.11744697,  0.06777523,\n",
       "          0.15475062,  0.0755998 ,  0.13205314,  0.09351351,  0.14176832,\n",
       "          0.08883946,  0.11960773,  0.0811535 ,  0.10114823,  0.09143955,\n",
       "          0.11575843,  0.06129136,  0.06810863,  0.14724748,  0.10582404,\n",
       "          0.13296679,  0.14481933,  0.1489013 ,  0.13618816,  0.15092832], dtype=float32)),\n",
       " (array([[-0.10571312,  0.00449981, -0.10258829, ..., -0.01099205,\n",
       "           0.00879715, -0.00619153],\n",
       "         [-0.11459212, -0.11088071,  0.13465653, ..., -0.03175689,\n",
       "          -0.15905386, -0.08659443],\n",
       "         [ 0.12124959, -0.16641659,  0.04715183, ..., -0.12832429,\n",
       "           0.01711006,  0.02909288],\n",
       "         ..., \n",
       "         [ 0.10966734, -0.00702535, -0.00657758, ...,  0.04091505,\n",
       "           0.14710756, -0.00487017],\n",
       "         [-0.15015107, -0.04621294,  0.07421811, ..., -0.0400424 ,\n",
       "           0.11037303,  0.01446388],\n",
       "         [-0.06612908,  0.09644876, -0.04544536, ...,  0.10221203,\n",
       "           0.05224197, -0.04872489]], dtype=float32),\n",
       "  array([ 0.06103186,  0.09238281,  0.09511268,  0.08902244,  0.06700964,\n",
       "          0.10517053,  0.09394158,  0.12470904,  0.07540622,  0.1       ,\n",
       "          0.12231471,  0.09434271,  0.10010063,  0.0991663 ,  0.07947548,\n",
       "          0.10143583,  0.0920317 ,  0.08186463,  0.09724791,  0.09570638,\n",
       "          0.07610751,  0.1047914 ,  0.0847868 ,  0.0775756 ,  0.10745406,\n",
       "          0.08202343,  0.11108081,  0.08468409,  0.09044595,  0.09799683,\n",
       "          0.0915684 ,  0.10026731,  0.08050364,  0.09916314,  0.08547018,\n",
       "          0.11082264,  0.1       ,  0.09804812,  0.07688636,  0.10536115,\n",
       "          0.09454948,  0.09311017,  0.08886937,  0.08027655,  0.0888446 ,\n",
       "          0.07691155,  0.1008603 ,  0.07930738,  0.09651536,  0.08435829,\n",
       "          0.1022127 ,  0.08306206,  0.10184235,  0.0898049 ,  0.10732304,\n",
       "          0.11038355,  0.09629453,  0.08910336,  0.10826757,  0.09150072,\n",
       "          0.09551839,  0.07595463,  0.09121871,  0.08336498,  0.08763789,\n",
       "          0.09618652,  0.11220542,  0.11362869,  0.1025864 ,  0.0832013 ,\n",
       "          0.08079534,  0.09146544,  0.09790297,  0.09215571,  0.09249612,\n",
       "          0.07849845,  0.08736698,  0.09144508,  0.12139031,  0.09891783,\n",
       "          0.0787029 ,  0.10540856,  0.10925095,  0.12531114,  0.08755534,\n",
       "          0.11449425,  0.08368576,  0.0930193 ,  0.09312909,  0.1093549 ,\n",
       "          0.07285827,  0.11320977,  0.09958583,  0.09375124,  0.07884345,\n",
       "          0.08892814,  0.10165404,  0.09019587,  0.10657858,  0.081154  ], dtype=float32)),\n",
       " (array([[ 0.0357516 ,  0.03710186,  0.09167658, ..., -0.07981797,\n",
       "          -0.03478342,  0.05453532],\n",
       "         [-0.07917339, -0.1082428 ,  0.08100285, ..., -0.05920934,\n",
       "          -0.08220417, -0.03236438],\n",
       "         [-0.00394817, -0.00770388,  0.06361275, ...,  0.05064345,\n",
       "           0.1535802 , -0.14512354],\n",
       "         ..., \n",
       "         [ 0.08321351, -0.06388047,  0.05954723, ..., -0.09231267,\n",
       "           0.0282625 , -0.00338321],\n",
       "         [ 0.04286122, -0.03563722, -0.0081484 , ...,  0.03815351,\n",
       "           0.00356193, -0.04834647],\n",
       "         [ 0.03067409, -0.07782964, -0.09417173, ..., -0.0999161 ,\n",
       "          -0.11787323, -0.15128854]], dtype=float32),\n",
       "  array([ 0.0831924 ,  0.08856881,  0.0976356 ,  0.10583548,  0.0865539 ,\n",
       "          0.11032144,  0.09031315,  0.07788883,  0.09757462,  0.09610345,\n",
       "          0.0959866 ,  0.08867785,  0.09188645,  0.09818579,  0.09901334,\n",
       "          0.09860909,  0.08922239,  0.0932298 ,  0.10716969,  0.1002036 ,\n",
       "          0.10459063,  0.09209028,  0.0683815 ,  0.08500631,  0.10432652,\n",
       "          0.0924437 ,  0.10131121,  0.09736571,  0.10278054,  0.07847055,\n",
       "          0.09572377,  0.09483939,  0.09516112,  0.10258473,  0.07681219,\n",
       "          0.09433661,  0.10125253,  0.10067569,  0.1002983 ,  0.1007056 ,\n",
       "          0.10083771,  0.08181275,  0.09057554,  0.09301755,  0.07997546,\n",
       "          0.10017375,  0.08873883,  0.07823113,  0.10573813,  0.08143167], dtype=float32)),\n",
       " (array([[ 0.09875048,  0.04638739,  0.11082023, ..., -0.17302729,\n",
       "          -0.012513  , -0.12731248],\n",
       "         [ 0.01480521,  0.01756078,  0.03904639, ...,  0.04362536,\n",
       "          -0.12727019,  0.18328808],\n",
       "         [ 0.19036886, -0.08423377,  0.01533947, ..., -0.09251717,\n",
       "           0.13443772, -0.14997309],\n",
       "         ..., \n",
       "         [-0.00614307, -0.07430577, -0.15433097, ...,  0.01455531,\n",
       "           0.05305283,  0.06380794],\n",
       "         [ 0.06880172,  0.02475941, -0.05463408, ...,  0.15040275,\n",
       "           0.18399782, -0.1092056 ],\n",
       "         [ 0.05218841, -0.05362878, -0.03417682, ..., -0.06145218,\n",
       "           0.07997092,  0.00523493]], dtype=float32),\n",
       "  array([ 0.09702408,  0.15141852,  0.13041358,  0.15672979,  0.12347355,\n",
       "          0.11565871,  0.15868324,  0.10660598,  0.09859101,  0.07515085,\n",
       "          0.18036462,  0.15991062,  0.18238883,  0.10623326,  0.15262067,\n",
       "          0.10366514,  0.1032773 ,  0.16788724,  0.15108123,  0.15180656,\n",
       "          0.15985017,  0.13749632,  0.13888045,  0.13762337,  0.12586346,\n",
       "          0.12325893,  0.08821727,  0.08920121,  0.17086501,  0.13984168,\n",
       "          0.08911405,  0.12549917,  0.12038441,  0.03015224,  0.14160003,\n",
       "          0.1203334 ,  0.14414632,  0.07054899,  0.0967571 ,  0.17247289,\n",
       "          0.12720785,  0.14715606,  0.11498898,  0.12538913,  0.09865384,\n",
       "          0.12319963,  0.10146292,  0.11562692,  0.12520623,  0.13725114,\n",
       "          0.12300873,  0.07599903,  0.08158208,  0.08252425,  0.11241515,\n",
       "          0.11997553,  0.12693472,  0.13261336,  0.10778505,  0.13128304,\n",
       "          0.11764494,  0.10179168,  0.1207918 ,  0.05074885,  0.10975291,\n",
       "          0.11385393,  0.1706624 ,  0.12079702,  0.09970415,  0.08583326,\n",
       "          0.13573673,  0.08689713,  0.12323198,  0.12420547,  0.14235538,\n",
       "          0.08958109,  0.16902854,  0.07207741,  0.18093917,  0.04835622,\n",
       "          0.11190116,  0.13356513,  0.14615066,  0.09310792,  0.12385661,\n",
       "          0.16496004,  0.17195246,  0.12181035,  0.08569708,  0.10057604,\n",
       "          0.12794666,  0.10693749,  0.12644631,  0.1560397 ,  0.14445333,\n",
       "          0.12755498,  0.07980682,  0.13505752,  0.12688364,  0.10760412,\n",
       "          0.10169929,  0.11303388,  0.1177617 ,  0.14583389,  0.09291983,\n",
       "          0.13333003,  0.14935078,  0.08617269,  0.07887062,  0.11152039,\n",
       "          0.11613887,  0.17152368,  0.06044681,  0.17193626,  0.12631012,\n",
       "          0.0887597 ,  0.07384822,  0.09933474,  0.11050732,  0.0952054 ,\n",
       "          0.16032036,  0.14550658,  0.10804038,  0.09532454,  0.13124382,\n",
       "          0.09083737,  0.06963073,  0.16347502,  0.11744697,  0.06777523,\n",
       "          0.15475062,  0.0755998 ,  0.13205314,  0.09351351,  0.14176832,\n",
       "          0.08883946,  0.11960773,  0.0811535 ,  0.10114823,  0.09143955,\n",
       "          0.11575843,  0.06129136,  0.06810863,  0.14724748,  0.10582404,\n",
       "          0.13296679,  0.14481933,  0.1489013 ,  0.13618816,  0.15092832], dtype=float32))]"
      ]
     },
     "execution_count": 47,
     "metadata": {},
     "output_type": "execute_result"
    }
   ],
   "source": [
    "ft.weights"
   ]
  },
  {
   "cell_type": "code",
   "execution_count": null,
   "metadata": {
    "collapsed": true
   },
   "outputs": [],
   "source": []
  }
 ],
 "metadata": {
  "anaconda-cloud": {},
  "kernelspec": {
   "display_name": "Python [Root]",
   "language": "python",
   "name": "Python [Root]"
  },
  "language_info": {
   "codemirror_mode": {
    "name": "ipython",
    "version": 3
   },
   "file_extension": ".py",
   "mimetype": "text/x-python",
   "name": "python",
   "nbconvert_exporter": "python",
   "pygments_lexer": "ipython3",
   "version": "3.5.2"
  }
 },
 "nbformat": 4,
 "nbformat_minor": 0
}
